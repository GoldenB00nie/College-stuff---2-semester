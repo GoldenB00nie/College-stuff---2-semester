{
 "cells": [
  {
   "cell_type": "markdown",
   "metadata": {},
   "source": [
    "# Estudando distribuições de Probabilidade\n",
    "\n",
    "O objetivos das próximas aulas é entender os conceitos de distribuição de probabilidades, dentre elas, as mais conhecidas **Binomial**, **Normal** e **de Poisson**.\n",
    "\n",
    "Quais as distribuições de probabilidade que vocês conhecem?\n",
    "Qual o motivo/importância de conhecer mais de uma distribuição de probabilidade?\n",
    "Qual a diferença e quando utilizar diferentes distribuições de probabilidade?\n",
    "\n",
    "## Problemas motivadores\n",
    "1) Vocês vão jogar uma moeda viciada, no qual a probabilidade de sair cara é 60%. Jogando a moeda 1000 vezes, quantas vezes espera-se que saia coroa?\n",
    "\n",
    "2) Vocês trabalham no setor de qualidade de uma granja e precisarão analisar dados referentes à perdas por embalagem de 20 unidades. Sabendo que precisa de um intervalo de 95% de confiança para seu estudo e o limite de perdas é 2 ovos por embalagem, calcule a probabilidade de que as cartelas de ovos cheguem com no máximo 2 ovos quebrados.\n",
    "\n",
    "Após os dois cálculos, o que os dois problemas hipotéticos têm em comum?"
   ]
  },
  {
   "cell_type": "markdown",
   "metadata": {},
   "source": [
    "1) Além da distribuição normal, quais outras distruibuições de probabilidade vocês conhecem?\n",
    "2) Qual a importância de diferentes distribuições?\n",
    "3) Para resolver estes dois problemas, qual distribuição foi (ou será) utilizada?\n",
    "\n",
    "Respostas:\n",
    "\n",
    "1. Nenhuma.\n",
    "2.\n",
    "3."
   ]
  },
  {
   "cell_type": "code",
   "execution_count": 1,
   "metadata": {},
   "outputs": [],
   "source": [
    "import pandas\n",
    "import numpy\n",
    "import matplotlib.pyplot as plt\n",
    "import scipy\n",
    "from scipy.stats import binom"
   ]
  },
  {
   "cell_type": "code",
   "execution_count": 2,
   "metadata": {},
   "outputs": [
    {
     "name": "stdout",
     "output_type": "stream",
     "text": [
      "2.5745\n"
     ]
    }
   ],
   "source": [
    "# exercício 1\n",
    "\n",
    "n = 1000\n",
    "p = 0.4\n",
    "k = 400\n",
    "probabilidade = binom.pmf(k,n,p)\n",
    "print(round(probabilidade*100, 4))"
   ]
  },
  {
   "cell_type": "code",
   "execution_count": 3,
   "metadata": {},
   "outputs": [
    {
     "name": "stdout",
     "output_type": "stream",
     "text": [
      "Número de coroa é: 369 e o número de cara é: 631\n"
     ]
    }
   ],
   "source": [
    "p = 0.6\n",
    "n = 1000\n",
    "cara = binom.rvs(n, p, size = 1)\n",
    "coroa = n - cara\n",
    "cara1 = n - coroa\n",
    "print(f\"Número de coroa é: {coroa[0]} e o número de cara é: {cara1[0]}\")"
   ]
  },
  {
   "cell_type": "code",
   "execution_count": 4,
   "metadata": {},
   "outputs": [
    {
     "name": "stdout",
     "output_type": "stream",
     "text": [
      "28.518\n"
     ]
    }
   ],
   "source": [
    "# exercício 2\n",
    "\n",
    "n = 20\n",
    "p = 0.1\n",
    "k = 2\n",
    "\n",
    "probabilidade = binom.pmf(k, n, p)\n",
    "print(round(probabilidade*100, 4))"
   ]
  },
  {
   "cell_type": "code",
   "execution_count": 5,
   "metadata": {},
   "outputs": [
    {
     "data": {
      "image/png": "[encoded data removed]",
      "text/plain": [
       "<Figure size 640x480 with 1 Axes>"
      ]
     },
     "metadata": {},
     "output_type": "display_data"
    }
   ],
   "source": [
    "# Para o cálculo das probabilidades de uma faixa de valores\n",
    "n = 20\n",
    "p = 0.1\n",
    "k_values = list(range(n-15))\n",
    "dist = [binom.pmf(r, n, p) for r in k_values]\n",
    "plt.bar(k_values, dist)\n",
    "plt.ylabel('Probabilidade')\n",
    "plt.title('Distribuição das probabilidades')\n",
    "plt.show()"
   ]
  }
 ],
 "metadata": {
  "kernelspec": {
   "display_name": "Python 3",
   "language": "python",
   "name": "python3"
  },
  "language_info": {
   "codemirror_mode": {
    "name": "ipython",
    "version": 3
   },
   "file_extension": ".py",
   "mimetype": "text/x-python",
   "name": "python",
   "nbconvert_exporter": "python",
   "pygments_lexer": "ipython3",
   "version": "3.12.6"
  }
 },
 "nbformat": 4,
 "nbformat_minor": 2
}
