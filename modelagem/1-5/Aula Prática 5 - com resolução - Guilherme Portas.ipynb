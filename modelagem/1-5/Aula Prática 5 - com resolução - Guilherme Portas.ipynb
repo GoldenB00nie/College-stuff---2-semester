{
 "cells": [
  {
   "cell_type": "markdown",
   "metadata": {},
   "source": [
    "# Estudando distribuições de Probabilidade\n",
    "\n",
    "O objetivos das próximas aulas é entender os conceitos de distribuição de probabilidades, dentre elas, as mais conhecidas **Binomial**, **Normal** e **de Poisson**.\n",
    "\n",
    "Quais as distribuições de probabilidade que vocês conhecem?\n",
    "Qual o motivo/importância de conhecer mais de uma distribuição de probabilidade?\n",
    "Qual a diferença e quando utilizar diferentes distribuições de probabilidade?\n",
    "\n",
    "## Problemas motivadores\n",
    "1) Vocês vão jogar uma moeda viciada, no qual a probabilidade de sair cara é 60%. Jogando a moeda 1000 vezes, quantas vezes espera-se que saia coroa?\n",
    "\n",
    "2) Vocês trabalham no setor de qualidade de uma granja e precisarão analisar dados referentes à perdas por embalagem de 20 unidades. Sabendo que precisa de um intervalo de 95% de confiança para seu estudo e o limite de perdas é 2 ovos por embalagem, calcule a probabilidade de que as cartelas de ovos cheguem com no máximo 2 ovos quebrados.\n",
    "\n",
    "Após os dois cálculos, o que os dois problemas hipotéticos têm em comum?"
   ]
  },
  {
   "cell_type": "markdown",
   "metadata": {},
   "source": [
    "\n",
    "## Distribução Binomial\n",
    "\n",
    "A distribuição binomial é uma distribuição de probabilidade que resume a probabilidade de uma variável assumir um de dois valores independentes sob um determinado conjunto de parâmetros. Bastante utilizada no contexto da estatística, a distribuição binomial é uma metodologia qualitativa que se revela útil para determinar probabilidades nos mais diversos cenários. Vale, inclusive, para o ambiente empresarial, funcionando bem como ferramenta para qualificar uma gestão.\n",
    "\n",
    "Com ela, é possível realizar a distribuição de probabilidade discreta do número de sucessos em uma sequência limitada de tentativas ou provas.\n",
    "\n",
    "A distribuição é obtida executando uma série de testes de Bernoulli.\n",
    "Presume-se que um ensaio de Bernoulli atenda a cada um destes critérios:\n",
    "\n",
    "1) Deve haver apenas 2 resultados possíveis\n",
    "\n",
    "2) Cada resultado tem uma probabilidade fixa de ocorrer. Um sucesso tem probabilidade de p, e uma falha tem probabilidade de 1 - p.\n",
    "\n",
    "3) Cada tentativa é completamente independente de todas as outras.\n",
    "\n",
    "4) O espaço amostral precisa ser finito\n",
    "\n",
    "A fórmula para o cálculo das Probabilidades, segundo a distribuição Binomial é dada por:\n",
    "\n",
    " $ \\begin{align} P(X = k) = \\binom{n}{k} p^k q^{n-k} \\textrm{,}\\ k = 0, 1, 2, ..., n \\end {align} $ \n",
    "\n",
    "A média da distribuição normal é dada por \n",
    "$ \\begin{align} média = np \\end {align} $ \n",
    "\n",
    "E a variância por:\n",
    "$ \\begin{align} var = np(1-p) \\end {align} $ \n",
    "\n",
    "\n"
   ]
  },
  {
   "cell_type": "markdown",
   "metadata": {},
   "source": [
    "## Distribução Binomial no Python\n",
    "\n",
    "Usaremos a função “binom.pmf”\n",
    "\n",
    "A função completa com os parametros é: binom.pmf(k, *args, **kwds)\n",
    "\n",
    "os três argumentos são respectivamente:\n",
    "\n",
    "- número de sucessos desejado, é o “k” na fórmula;\n",
    "\n",
    "- número de realizações do experimento, ou seja, o “n” da fórmula\n",
    "\n",
    "- probabilidade de sucesso em uma tentativa, o “p” na fórmula.\n",
    "\n",
    "Usando o mesmo exemplo dos ovos acima calculariamos assim no Python"
   ]
  },
  {
   "cell_type": "code",
   "execution_count": 1,
   "metadata": {},
   "outputs": [],
   "source": [
    "import numpy\n",
    "import pandas\n",
    "import scipy\n",
    "import matplotlib.pyplot as plt\n",
    "import seaborn as sns\n",
    "from scipy.stats import binom\n"
   ]
  },
  {
   "cell_type": "code",
   "execution_count": 2,
   "metadata": {},
   "outputs": [
    {
     "data": {
      "text/plain": [
       "np.float64(0.0001330787914045)"
      ]
     },
     "execution_count": 2,
     "metadata": {},
     "output_type": "execute_result"
    }
   ],
   "source": [
    "# Exercício 1\n",
    "\n",
    "n = 1000\n",
    "p = 0.4\n",
    "k = 350\n",
    "probabilidade = binom.pmf(k,n,p)\n",
    "probabilidade"
   ]
  },
  {
   "cell_type": "code",
   "execution_count": 3,
   "metadata": {},
   "outputs": [
    {
     "name": "stdout",
     "output_type": "stream",
     "text": [
      "número de: 401 e o número de cara é 599\n"
     ]
    }
   ],
   "source": [
    "p = 0.6\n",
    "n = 1000\n",
    "cara = binom.rvs(n, p,size = 1)\n",
    "coroa = n - cara\n",
    "cara1 = n - coroa\n",
    "print(f\"número de: {coroa[0]} e o número de cara é {cara1[0]}\")"
   ]
  },
  {
   "cell_type": "code",
   "execution_count": 4,
   "metadata": {},
   "outputs": [
    {
     "data": {
      "text/plain": [
       "np.float64(0.12157665459056918)"
      ]
     },
     "execution_count": 4,
     "metadata": {},
     "output_type": "execute_result"
    }
   ],
   "source": [
    "#Exercício 2\n",
    "\n",
    "n = 20\n",
    "p = 0.1\n",
    "k = 0\n",
    "\n",
    "Probabilidade = binom.pmf(k, n, p)\n",
    "\n",
    "Probabilidade"
   ]
  },
  {
   "cell_type": "code",
   "execution_count": 5,
   "metadata": {},
   "outputs": [
    {
     "data": {
      "image/png": "[encoded data removed]",
      "text/plain": [
       "<Figure size 640x480 with 1 Axes>"
      ]
     },
     "metadata": {},
     "output_type": "display_data"
    }
   ],
   "source": [
    "# Para o cálculo das probabilidades de uma faixa de valores\n",
    "n = 20\n",
    "p = 0.1\n",
    "k_values = list(range(n - 15))\n",
    "dist = [binom.pmf(r, n, p) for r in k_values ] \n",
    "plt.bar(k_values, dist) \n",
    "plt.ylabel('Probabilidade')\n",
    "plt.title('Distribuição das probabilidades')\n",
    "plt.show()"
   ]
  },
  {
   "cell_type": "markdown",
   "metadata": {},
   "source": [
    "## Roteiro para uma boa análise de Distribuições Binomiais\n",
    "\n",
    "- Verifique os parâmetros: Ao utilizar a distribuição binomial com Python, é essencial verificar se os parâmetros estão corretamente definidos de acordo com o contexto do problema. Certifique-se de que o número de tentativas e a probabilidade de sucesso sejam inseridos corretamente;\n",
    "\n",
    "- Utilize funções estatísticas: A biblioteca scipy.stats oferece várias funções estatísticas que podem ser úteis ao trabalhar com distribuição binomial. Por exemplo, você pode calcular a média, a variância e o desvio padrão utilizando as funções mean(), var(), e std(), respectivamente;\n",
    "\n",
    "- Faça gráficos: Utilize bibliotecas como matplotlib para criar gráficos que representem visualmente a distribuição binomial. Isso pode ajudar na compreensão dos resultados e na visualização da forma da distribuição;\n",
    "\n",
    "- Valide os resultados: Sempre verifique se os resultados obtidos estão coerentes com o contexto do problema. Compare os resultados com resultados teóricos ou utilize outras técnicas estatísticas para validar suas conclusões."
   ]
  },
  {
   "cell_type": "markdown",
   "metadata": {},
   "source": [
    "## Em resumo\n",
    "\n",
    "A distribuição binomial é amplamente aplicada em diversos campos. Alguns exemplos práticos de aplicação da distribuição binomial com Python:\n",
    "\n",
    "- Análise de resultados de pesquisas de opinião: Suponha que você esteja conduzindo uma pesquisa de opinião com duas opções de resposta (sim ou não) e deseje analisar a probabilidade de obter determinado número de respostas positivas em um determinado número de entrevistas;\n",
    "\n",
    "- Testes de hipóteses: A distribuição binomial pode ser utilizada para realizar testes de hipóteses, como por exemplo, verificar se a proporção de sucesso em um experimento é igual a um determinado valor esperado;\n",
    "\n",
    "- Controle de qualidade: Em processos de controle de qualidade, é comum utilizar a distribuição binomial para analisar a probabilidade de ocorrência de defeitos em uma amostra de produtos.\n",
    "\n",
    "### Importante:\n",
    "Quando o sucesso e o fracasso são igualmente prováveis, a distribuição binomial é uma distribuição normal . Portanto, alterando o valor de p para 0,5 , obtemos este gráfico, que é idêntico a um gráfico de distribuição normal (vide o exemplo da moeda não viciada)\n"
   ]
  },
  {
   "cell_type": "markdown",
   "metadata": {},
   "source": [
    "### Exemplo usando a fórmula:\n",
    "\n",
    "Lançamento de moedas **não-viciada**. Se eu jogar uma moeda 5 vezes, qual é a probabilidade de resultar em cara 3 vezes?\n",
    "\n",
    "**Solução:** Observe que X é uma variável binomial pois cada realização do evento resulta em duas possibilidades: sair cara ou coroa; cada lançamento da moeda é independente do lançamento anterior; e sair cara tem a mesma probabilidade 0.5 para todos lançamentos.\n",
    "\n",
    "Agora basta identificar os parâmetros na fórmula: No caso temos\n",
    "\n",
    "- n = 5 - número de tentativas\n",
    "\n",
    "- p = 0.5 - probabilidade de resultar cara\n",
    "\n",
    "- k = 3 - contagem dos sucessos\n",
    "\n",
    "5) Qual a probabilidade encontrada? (resolvam com o código)\n",
    "\n",
    "6) A probabilidade encontrada confere com a ideia inicial que temos do lançamento de moedas (Probabilidade x Nº de eventos)?\n",
    "\n",
    "7) Faça o gráfico da distribuição"
   ]
  },
  {
   "cell_type": "code",
   "execution_count": 6,
   "metadata": {},
   "outputs": [
    {
     "name": "stdout",
     "output_type": "stream",
     "text": [
      "Exercício 5:\n",
      "31.25 % de probabilidade de resultar em 3 caras nas 5 tentativas\n",
      "\n",
      "Exercício 6:\n",
      "1.55\n",
      "Não, pois resulta em aproximadamente 2 caras a cada 5 jogadas\n",
      "\n",
      "Exercíco 7:\n"
     ]
    },
    {
     "data": {
      "image/png": "[encoded data removed]",
      "text/plain": [
       "<Figure size 640x480 with 1 Axes>"
      ]
     },
     "metadata": {},
     "output_type": "display_data"
    }
   ],
   "source": [
    "n = 5\n",
    "p = 0.5\n",
    "k = 3\n",
    "\n",
    "# exercício 5\n",
    "print(\"Exercício 5:\")\n",
    "probabilidade = binom.pmf(k, n, p)\n",
    "print(round(probabilidade*100, 2), \"% de probabilidade de resultar em 3 caras nas 5 tentativas\")\n",
    "\n",
    "# exercício 6\n",
    "print(\"\\nExercício 6:\")\n",
    "ideiaInicial = round(probabilidade, 2) * n\n",
    "print(ideiaInicial)\n",
    "print(\"Não, pois resulta em aproximadamente\", round(ideiaInicial), \"caras a cada 5 jogadas\")\n",
    "\n",
    "# exercício 7\n",
    "print(\"\\nExercíco 7:\")\n",
    "k_values = list(range(n))\n",
    "dist = [binom.pmf(r, n, p) for r in k_values ] \n",
    "plt.bar(k_values, dist) \n",
    "plt.ylabel('Probabilidade')\n",
    "plt.title('Distribuição das probabilidades')\n",
    "plt.show()\n"
   ]
  },
  {
   "cell_type": "markdown",
   "metadata": {},
   "source": [
    "### Outro pequeno exercício:\n",
    "\n",
    "Suponha que foi constatado que a probabilidade de ter sangue tipo A é 0,4. Escolha 10 pessoas aleatoriamente e seja X o número com o tipo sanguíneo A.\n",
    "\n",
    "1) Faça a distribuição com todas as probabilidades de x=0,1,2,3, ...\n",
    "\n",
    "2) Calcule a probabilidade de exatamente duas pessoas terem sangue do tipo A.\n",
    "\n",
    "3) Faça um gráfico de barras (histograma da distribuição das probabilidades)\n",
    "\n",
    "4) Calcule a probabilidade de no máximo 3 pessoas terem sangue do tipo A. (DICA: há duas formas de resolver uma delas é usando o comando “binom.cdf”)"
   ]
  },
  {
   "cell_type": "code",
   "execution_count": 7,
   "metadata": {},
   "outputs": [
    {
     "name": "stdout",
     "output_type": "stream",
     "text": [
      "Número de pessoas =  0 é:  0.6 %\n",
      "Número de pessoas =  1 é:  4.03 %\n",
      "Número de pessoas =  2 é:  12.09 %\n",
      "Número de pessoas =  3 é:  21.5 %\n",
      "Número de pessoas =  4 é:  25.08 %\n",
      "Número de pessoas =  5 é:  20.07 %\n",
      "Número de pessoas =  6 é:  11.15 %\n",
      "Número de pessoas =  7 é:  4.25 %\n",
      "Número de pessoas =  8 é:  1.06 %\n",
      "Número de pessoas =  9 é:  0.16 %\n",
      "Número de pessoas =  10 é:  0.01 %\n"
     ]
    },
    {
     "data": {
      "image/png": "[encoded data removed]",
      "text/plain": [
       "<Figure size 640x480 with 1 Axes>"
      ]
     },
     "metadata": {},
     "output_type": "display_data"
    }
   ],
   "source": [
    "# Exercício 1, 2 e 4:\n",
    "n = 10\n",
    "p = 0.4\n",
    "numPessoasA = []\n",
    "for k in range(11):\n",
    "    numPessoasA.append(binom.pmf(k, n, p))\n",
    "    print(\"Número de pessoas = \", k, \"é: \", round(numPessoasA[k]*100, 2), \"%\")\n",
    "\n",
    "# Exercício 3:\n",
    "k_values = list(range(n))\n",
    "dist = [binom.pmf(r, n, p) for r in k_values ] \n",
    "plt.bar(k_values, dist) \n",
    "plt.ylabel('Probabilidade')\n",
    "plt.title('Distribuição das probabilidades')\n",
    "plt.show()"
   ]
  },
  {
   "cell_type": "markdown",
   "metadata": {},
   "source": [
    "### Voltando ao exemplo da moeda viciada\n",
    "\n",
    "Repita o exemplo da moeda viciada (probabilidade de cara 0,6), mas agora apenas 6x. \n",
    "\n",
    "8) Como ficaria a distribuição de probabilidades de sair cara?\n",
    "9) Faça um gráfico dos resultados e compare com o gráfico anterior da moeda não-viciada.\n",
    "10) Calcule a média e a variância."
   ]
  },
  {
   "cell_type": "code",
   "execution_count": 8,
   "metadata": {},
   "outputs": [
    {
     "name": "stdout",
     "output_type": "stream",
     "text": [
      "Exercício 8:\n",
      "\n",
      "Número de pessoas =  0 é:  0.41 %\n",
      "Número de pessoas =  1 é:  3.69 %\n",
      "Número de pessoas =  2 é:  13.82 %\n",
      "Número de pessoas =  3 é:  27.65 %\n",
      "Número de pessoas =  4 é:  31.1 %\n",
      "Número de pessoas =  5 é:  18.66 %\n",
      "Número de pessoas =  6 é:  4.67 %\n",
      "\n",
      "Exercício 9:\n"
     ]
    },
    {
     "data": {
      "image/png": "[encoded data removed]",
      "text/plain": [
       "<Figure size 640x480 with 1 Axes>"
      ]
     },
     "metadata": {},
     "output_type": "display_data"
    }
   ],
   "source": [
    "# Exercício 8:\n",
    "print(\"Exercício 8:\\n\")\n",
    "n = 6\n",
    "p = 0.6\n",
    "numPessoasA = []\n",
    "for k in range(7):\n",
    "    numPessoasA.append(binom.pmf(k, n, p))\n",
    "    print(\"Número de pessoas = \", k, \"é: \", round(numPessoasA[k]*100, 2), \"%\")\n",
    "\n",
    "# Exercício 9:\n",
    "print(\"\\nExercício 9:\")\n",
    "k_values = list(range(n))\n",
    "dist = [binom.pmf(r, n, p) for r in k_values ] \n",
    "plt.bar(k_values, dist) \n",
    "plt.ylabel('Probabilidade')\n",
    "plt.title('Distribuição das probabilidades')\n",
    "plt.show()\n",
    "\n"
   ]
  },
  {
   "cell_type": "markdown",
   "metadata": {},
   "source": [
    "A partir dos gráficos, é possível perceber que as maiores chances da moeda viciada tendem ao valor 4, enquanto a não viciada tende ao 2 e ao 3."
   ]
  },
  {
   "cell_type": "code",
   "execution_count": 9,
   "metadata": {},
   "outputs": [
    {
     "name": "stdout",
     "output_type": "stream",
     "text": [
      "\n",
      "Exercício 10:\n",
      "A média é: 14.29 %\n",
      "E a variância do vetor é:  1.25 %\n"
     ]
    }
   ],
   "source": [
    "\n",
    "# Exercício 10:\n",
    "print(\"\\nExercício 10:\")\n",
    "for k in range(6):\n",
    "    media = sum(numPessoasA)/len(numPessoasA)\n",
    "print(\"A média é:\", round(media*100, 2), \"%\")\n",
    "\n",
    "variancia = 0\n",
    "for elemento in numPessoasA:\n",
    "    variancia += (elemento - media) ** 2\n",
    "variancia /= len(numPessoasA)\n",
    "\n",
    "print(f\"E a variância do vetor é: \", round(variancia*100, 2), \"%\")"
   ]
  }
 ],
 "metadata": {
  "kernelspec": {
   "display_name": "Python 3",
   "language": "python",
   "name": "python3"
  },
  "language_info": {
   "codemirror_mode": {
    "name": "ipython",
    "version": 3
   },
   "file_extension": ".py",
   "mimetype": "text/x-python",
   "name": "python",
   "nbconvert_exporter": "python",
   "pygments_lexer": "ipython3",
   "version": "3.12.6"
  }
 },
 "nbformat": 4,
 "nbformat_minor": 2
}
