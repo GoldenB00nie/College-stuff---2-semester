{
 "cells": [
  {
   "cell_type": "markdown",
   "metadata": {},
   "source": [
    "## Voltando à tabela de salários\n",
    "\n",
    "A partir dos tópicos estudados de estatística descritiva, analise as variáveis do arquivo TabelaSalarial.csv.\n",
    "\n",
    "1) Calcule as medidas de centralidade e dispersão das variáveis;\n",
    "\n",
    "2) Plote histogramas de todas as variáveis;\n",
    "\n",
    "3) Faça o boxplot de todas as variáveis.\n",
    "\n",
    "4) Escreva uma análise de todas as variáveis, no formato texto corrido, com as informações que vocês geraram nos itens anteriores (Procurem escrever um texto como se estivessem apresentando as informações para uma pessoa leiga)\n",
    "\n",
    "O prazo final para entrega desta atividade é dia 21 de agosto, quarta-feira, às 23h59"
   ]
  },
  {
   "cell_type": "code",
   "execution_count": 1,
   "metadata": {},
   "outputs": [
    {
     "name": "stdout",
     "output_type": "stream",
     "text": [
      "média = \n",
      " N                      18.500\n",
      "N de Filhos             1.650\n",
      "Salario (x Sal Min)    11.122\n",
      "Idade (em anos)        34.583\n",
      "dtype: float64\n",
      "\n",
      "média aparada = \n",
      " N                      18.500\n",
      "N de Filhos               NaN\n",
      "Salario (x Sal Min)    10.838\n",
      "Idade (em anos)        34.633\n",
      "dtype: float64\n",
      "\n",
      "mediana = \n",
      " N                      18.500\n",
      "N de Filhos             2.000\n",
      "Salario (x Sal Min)    10.165\n",
      "Idade (em anos)        34.500\n",
      "dtype: float64\n",
      "\n",
      "moda = \n",
      " N                                   1\n",
      "Estado Civil                   casado\n",
      "Grau de Instrução        ensino médio\n",
      "N de Filhos                       2.0\n",
      "Salario (x Sal Min)               4.0\n",
      "Idade (em anos)                  26.0\n",
      "Região de Procedência           outra\n",
      "Name: 0, dtype: object\n",
      "\n",
      "quartis = \n",
      " N                      18.500\n",
      "N de Filhos             2.000\n",
      "Salario (x Sal Min)    10.165\n",
      "Idade (em anos)        34.500\n",
      "Name: 0.5, dtype: float64\n"
     ]
    }
   ],
   "source": [
    "# 1)\n",
    "\n",
    "import pandas as pd\n",
    "from scipy.stats import trim_mean\n",
    "\n",
    "dadosTabela = pd.read_csv('TabelaSalarial.csv')\n",
    "colunas_numericas = dadosTabela.select_dtypes(include=['number'])    # seleciona as colunas numéricas\n",
    "\n",
    "# média\n",
    "média = colunas_numericas.mean().round(3)\n",
    "print(\"média = \\n\", média)\n",
    "\n",
    "# média aparada\n",
    "médiaAparada = colunas_numericas.apply(lambda x: trim_mean(x, 0.1)).round(3)\n",
    "print(\"\\nmédia aparada = \\n\", médiaAparada)\n",
    "\n",
    "# mediana\n",
    "mediana = colunas_numericas.median().round(3)\n",
    "print(\"\\nmediana = \\n\", mediana)\n",
    "\n",
    "# moda\n",
    "moda = dadosTabela.mode().iloc[0]\n",
    "print(\"\\nmoda = \\n\", moda)\n",
    "\n",
    "# quartis, decis e percentis\n",
    "quartis = colunas_numericas.quantile().round(3)\n",
    "print(\"\\nquartis = \\n\", quartis)"
   ]
  },
  {
   "cell_type": "code",
   "execution_count": 2,
   "metadata": {},
   "outputs": [
    {
     "name": "stdout",
     "output_type": "stream",
     "text": [
      "Amplitude total = \n",
      " N                      35.0\n",
      "N de Filhos             5.0\n",
      "Salario (x Sal Min)    19.3\n",
      "Idade (em anos)        28.0\n",
      "dtype: float64\n",
      "\n",
      "Desvio médio = \n",
      " N                      9.000\n",
      "N de Filhos            0.985\n",
      "Salario (x Sal Min)    3.731\n",
      "Idade (em anos)        5.472\n",
      "dtype: float64\n",
      "\n",
      "variância = \n",
      " N                      111.000\n",
      "N de Filhos              1.608\n",
      "Salario (x Sal Min)     21.045\n",
      "Idade (em anos)         45.393\n",
      "dtype: float64\n",
      "\n",
      "Desvio padrão = \n",
      " N                      10.536\n",
      "N de Filhos             1.268\n",
      "Salario (x Sal Min)     4.587\n",
      "Idade (em anos)         6.737\n",
      "dtype: float64\n",
      "\n",
      "Coeficiente de variação = \n",
      " N                      0.570\n",
      "N de Filhos            0.768\n",
      "Salario (x Sal Min)    0.412\n",
      "Idade (em anos)        0.195\n",
      "dtype: float64\n"
     ]
    }
   ],
   "source": [
    "# amplitude total\n",
    "amplitudeTotal = colunas_numericas.max() - colunas_numericas.min()\n",
    "print(\"Amplitude total = \\n\", amplitudeTotal)\n",
    "\n",
    "# desvio médio\n",
    "desvioAbsoluto = colunas_numericas.sub(média, axis=1).abs()\n",
    "desvioAbsolutoMédio = desvioAbsoluto.mean().round(3)\n",
    "print(\"\\nDesvio médio = \\n\", desvioAbsolutoMédio)\n",
    "\n",
    "# variância\n",
    "variância = colunas_numericas.var().round(3)\n",
    "print(\"\\nvariância = \\n\", variância)\n",
    "\n",
    "# desvio padrao\n",
    "desvioPadrão = colunas_numericas.std().round(3)\n",
    "print(\"\\nDesvio padrão = \\n\", desvioPadrão)\n",
    "\n",
    "# coeficiente de variação\n",
    "coeficienteVariação = (desvioPadrão / média).round(3)\n",
    "print(\"\\nCoeficiente de variação = \\n\", coeficienteVariação)"
   ]
  },
  {
   "cell_type": "code",
   "execution_count": 3,
   "metadata": {},
   "outputs": [
    {
     "data": {
      "text/plain": [
       "array([[<Axes: title={'center': 'N'}>,\n",
       "        <Axes: title={'center': 'N de Filhos'}>],\n",
       "       [<Axes: title={'center': 'Salario (x Sal Min)'}>,\n",
       "        <Axes: title={'center': 'Idade (em anos)'}>]], dtype=object)"
      ]
     },
     "execution_count": 3,
     "metadata": {},
     "output_type": "execute_result"
    },
    {
     "data": {
      "image/png": "[encoded data removed]",
      "text/plain": [
       "<Figure size 640x480 with 4 Axes>"
      ]
     },
     "metadata": {},
     "output_type": "display_data"
    }
   ],
   "source": [
    "# 2)\n",
    "\n",
    "import pandas as pd\n",
    "import matplotlib\n",
    "\n",
    "dadosTabela = pd.read_csv('TabelaSalarial.csv')\n",
    "dadosTabela.hist()\n"
   ]
  },
  {
   "cell_type": "code",
   "execution_count": 4,
   "metadata": {},
   "outputs": [
    {
     "data": {
      "image/png": "[encoded data removed]",
      "text/plain": [
       "<Figure size 640x480 with 1 Axes>"
      ]
     },
     "metadata": {},
     "output_type": "display_data"
    }
   ],
   "source": [
    "# 3)\n",
    "\n",
    "boxplot = dadosTabela.boxplot()"
   ]
  },
  {
   "cell_type": "markdown",
   "metadata": {},
   "source": [
    "4)\n",
    "\n",
    "    A partir da análise da tabela, a maioria dos funcionários são casados, completaram o ensino médio e vieram de outras regiões. Além disso, eles tendem a ter entre 1 a 2 filhos, o salário médio dos funcionários é de 11 salários mínimos, porém a maioria dos empresários estão abaixo dessa média, partindo de 4 até 23 salários mínimos. Não só isso, a maioria dos empregados tem entre 26 e 43 anos, porém sua média é de 34 anos."
   ]
  }
 ],
 "metadata": {
  "kernelspec": {
   "display_name": "Python 3",
   "language": "python",
   "name": "python3"
  },
  "language_info": {
   "codemirror_mode": {
    "name": "ipython",
    "version": 3
   },
   "file_extension": ".py",
   "mimetype": "text/x-python",
   "name": "python",
   "nbconvert_exporter": "python",
   "pygments_lexer": "ipython3",
   "version": "3.12.4"
  }
 },
 "nbformat": 4,
 "nbformat_minor": 2
}
