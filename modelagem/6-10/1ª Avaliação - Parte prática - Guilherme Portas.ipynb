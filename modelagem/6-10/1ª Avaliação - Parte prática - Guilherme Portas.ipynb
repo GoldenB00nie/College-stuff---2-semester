{
 "cells": [
  {
   "cell_type": "markdown",
   "metadata": {},
   "source": [
    "# Questão 1\n",
    "\n",
    "João e Maria estão jogando RPG, um jogo de imaginação em que as regras do mundo são ditadas por jogadas de dados.\n",
    "\n",
    "Em uma campanha, Maria encontra três itens que permitem aumentar os pontos de vida do jogador. Cada item vai aumentar o número obtido pela soma da jogada de diferentes dados, podendo ser dados de 4, 6, 8, 10 ou 12 faces. As regras para o cálculo do número de pontos de vida para cada item são:\n",
    "\n",
    " - Soma da jogada de 1 dado de 12 faces mais 1 dado de 10 faces. Se o resultado for menor que 7, adicionar 1 dado de 4 faces;\n",
    " - Soma da jogada de 2 dados de 6 faces e 2 dados de 4 faces. Se o resultado for menor que 7, adicionar 1 dado de 4 faces;\n",
    " - Soma da jogada de 6 dados de 4 faces. Se o resultado for menor que 7, adicionar 1 dado de 12 faces\n",
    "\n",
    "João não sabe qual item escolher, então Maria decide calcular quais seriam os valores esperados e dispersão desses valores para cada um dos itens.\n",
    "\n",
    "### Instruções\n",
    "\n",
    "Escreva um programa que simule a jogada de 10 mil dados e calcule a média e desvio-padrão para cadas uma das opções.\n",
    "\n",
    "Construa um gráfico de barras para cada opção com o número de vezes que cada face foi lançada e ajude João escolher a melhor opção."
   ]
  },
  {
   "cell_type": "code",
   "execution_count": 4,
   "metadata": {},
   "outputs": [
    {
     "data": {
      "text/plain": [
       "12.3208"
      ]
     },
     "execution_count": 4,
     "metadata": {},
     "output_type": "execute_result"
    }
   ],
   "source": [
    "import random\n",
    "\n",
    "def Dado4Faces():\n",
    "    return random.randrange(1,5)\n",
    "def Dado6Faces():\n",
    "    return random.randrange(1,7)\n",
    "def Dado10Faces():\n",
    "    return random.randrange(1,11)\n",
    "def Dado12Faces():\n",
    "    return random.randrange(1,13)\n",
    "\n",
    "Media1 = 0\n",
    "Media2 = 0\n",
    "Media3 = 0\n",
    "i = 0\n",
    "\n",
    "for i in range (10000):\n",
    "    # primeira possibilidade\n",
    "    Soma1Possibilidade = Dado12Faces() + Dado10Faces()\n",
    "    if (Soma1Possibilidade < 7):\n",
    "        Soma1Possibilidade += Dado4Faces()\n",
    "    Media1 += Soma1Possibilidade\n",
    "\n",
    "    # segunda possibilidade\n",
    "    Soma2Possibilidade = (Dado6Faces() + Dado6Faces()) + (Dado4Faces() + Dado4Faces())\n",
    "    if (Soma2Possibilidade < 7):\n",
    "        Soma2Possibilidade += Dado4Faces()\n",
    "    Media2 += Soma2Possibilidade\n",
    "\n",
    "    # terceira possibilidade\n",
    "    Soma3Possibilidade = (Dado4Faces() + Dado4Faces() + Dado4Faces() + Dado4Faces())\n",
    "    if (Soma3Possibilidade < 7):\n",
    "        Soma3Possibilidade += Dado12Faces()\n",
    "    Media3 += Soma3Possibilidade\n",
    "    i =+ 1\n",
    "\n",
    "Media1 = Media1/10000\n",
    "Media2 = Media2/10000\n",
    "Media3 = Media3/10000\n",
    "\n",
    "Media1\n",
    "\n"
   ]
  },
  {
   "cell_type": "markdown",
   "metadata": {},
   "source": [
    "# Questão 2\n",
    "\n",
    "Em um município do Brasil, sabe-se que  a idade dos habitantes não é conhecida, mas sabe-se que as seguintes faixas de idade seguem a seguinte distribuição de probabilidade:\n",
    " - 25% da população tem entre 0 e 12 anos\n",
    " - 50% da população tem entre 13 e 35 anos\n",
    " - 15% da população tem entre 35 e 55 anos\n",
    " - 10% da população tem mais de 56 anos\n",
    "\n",
    "Sabendo que o município tem 50 mil habitantes, simule a distribuição de idades desse município. Obtenha os valores das idades de cada faixa e adicione-os a uma lista.\n",
    "\n",
    "\n",
    "Para entender melhor a distribuição de probabilidade, obtenha um Histograma das idades obtidas no passo anterior, ou seja, um gráfico de barras em que cada barra reflete o número de vezes que o valor aparece no conjunto de dados.\n",
    "\n",
    "Calcule a média e desvio padrão desse conjunto de dados.\n",
    "\n",
    "Por fim, obtenha 100 amostras de 100 pessoas desse município e calcule a média de cada amostra. Obtenha um Histograma para o conjunto de médias obtido."
   ]
  },
  {
   "cell_type": "code",
   "execution_count": 1,
   "metadata": {},
   "outputs": [
    {
     "data": {
      "image/png": "[encoded data removed]",
      "text/plain": [
       "<Figure size 400x300 with 1 Axes>"
      ]
     },
     "metadata": {},
     "output_type": "display_data"
    }
   ],
   "source": [
    "import matplotlib.pyplot as plt\n",
    "import seaborn as sns\n",
    "k = 50000\n",
    "P0a12 = 0.25\n",
    "P13a35 = 0.5\n",
    "P35a55 = 0.15\n",
    "Pmaior56 = 0.1\n",
    "\n",
    "Pessoas0a12 = k*P0a12\n",
    "Pessoas13a35 = k*P13a35\n",
    "Pessoas35a55 = k*P35a55\n",
    "PessoasMaior56 = k*Pmaior56\n",
    "\n",
    "lista = [Pessoas0a12, Pessoas13a35, Pessoas35a55, PessoasMaior56]\n",
    "plt.figure(figsize=(4, 3))\n",
    "plt.ylabel('Frequência Absoluta')\n",
    "plt.hist(lista, bins=4)\n",
    "plt.show()\n",
    "\n"
   ]
  },
  {
   "cell_type": "markdown",
   "metadata": {},
   "source": [
    "# Questão 3\n",
    "\n",
    "Em uma indústria farmacêutica aproximadamente 1% dos pacientes tratados com um novo remédio apresentam reação adversa. Considerando uma amostra de 2000 pacientes.\n",
    "a) Qual a distribuição de probabilidades utilizadas para o cálculo de probabilidades para este teste. Justifique a sua resposta.\n",
    "b) Calcule a probabilidade de 0 a 10 reações adversas (faça este cálculo pela distribuição Binomial e de Poisson e plote histogramas para cada um dos cálculos). Há diferença entre os valores encontrados? Em caso afirmativo, porque haveria esta diferença?\n",
    "c) Baseado nos cálculos anteriores, o remédio é seguro?"
   ]
  },
  {
   "cell_type": "code",
   "execution_count": 6,
   "metadata": {},
   "outputs": [
    {
     "name": "stdout",
     "output_type": "stream",
     "text": [
      "A distribuição de probabilidades é:  20.0 pessoas, pois se tiramos infinitas amostras, os valores convergem para 20 pessoas.\n",
      "0.5685738690747533 % em binomial\n",
      "0.5816304457191497 % em poisson\n",
      "É sim\n"
     ]
    }
   ],
   "source": [
    "import scipy\n",
    "from scipy.stats import poisson\n",
    "from scipy.stats import binom\n",
    "\n",
    "k = 2000\n",
    "p = 0.01\n",
    "\n",
    "# A)\n",
    "y = k*p\n",
    "print(\"A distribuição de probabilidades é: \", y, \"pessoas, pois se tiramos infinitas amostras, os valores convergem para 20 pessoas.\")\n",
    "\n",
    "# B)\n",
    "Binom = binom.pmf(10, k, p) - binom.pmf(0, k, p)\n",
    "print(Binom * 100, \"% em binomial\")\n",
    "\n",
    "Poisson = poisson.pmf(10, y) - poisson.pmf(0, y)\n",
    "print(Poisson * 100, \"% em poisson\")\n",
    "\n",
    "# C)\n",
    "print(\"É sim\")"
   ]
  }
 ],
 "metadata": {
  "kernelspec": {
   "display_name": "Python 3",
   "language": "python",
   "name": "python3"
  },
  "language_info": {
   "codemirror_mode": {
    "name": "ipython",
    "version": 3
   },
   "file_extension": ".py",
   "mimetype": "text/x-python",
   "name": "python",
   "nbconvert_exporter": "python",
   "pygments_lexer": "ipython3",
   "version": "3.12.6"
  }
 },
 "nbformat": 4,
 "nbformat_minor": 2
}
