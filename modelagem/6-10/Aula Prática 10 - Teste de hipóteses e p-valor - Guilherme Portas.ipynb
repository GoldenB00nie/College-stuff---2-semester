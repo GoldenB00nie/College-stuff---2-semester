{
 "cells": [
  {
   "cell_type": "markdown",
   "metadata": {},
   "source": [
    "# Teoria da Decisão Estatística\n",
    "\n",
    "Como dito anteriormente, com frequência devemos tomar decisões acerca de populações, baseadas nas informações das amostras, decisões essas chamadas _estatísticas_. Por exemplo, pode-se desejar decidir, com base em dados amostrais, se um novo medicamento é eficaz, ou se um processo educacional é melhor do que outro, dentre outras possibilidades de comparação.\n",
    "\n",
    "## Hipóteses estatísticas e hipóteses nulas\n",
    "\n",
    "Para que possamos tomar decisões é conveniente a formulação de hipóteses ou conjecturas acerca das populações interessadas. Essas suposições, que podem ser ou não verdadeiras, são denominadas **_hipóteses estatísticas_** e, em geral, consistem em considerações acerca das distribuições de probabilidade das populações.\n",
    "\n",
    "Em alguns casos, formula-se uma hipótese estatística com o único propósito de rejeitá-la ou invalidá-la. Por exemplo, caso o desejo seja provar que uma moeda é viciada, formula-se a hipótese de que ela não o seja, isto é, a moeda é honesta e a probabilidade de caras é igual a de coroa e vale $p=0,5$. Ou ainda, se deseja-se provar que um processo é melhor do que outro, formula-se a hipótese de que não há diferença entre eles (ou seja qualquer diferença observada é meramente ao acaso). Essas hipóteses são chamadas de **_Hipóteses nulas_** e são representadas por **$H_0$**.\n",
    "\n",
    "É possível ainda que se tenham outras hipóteses, que sejam diferentes da _hipótese nula_, que denominamos com _hipótese alternativa_ e representamos por $H_1$. No caso da moeda viciada, poderíamos ter uma hipótese alternativa de que $p \\ne 0,5$, $p=0,7$ ou $p > 0,5$.\n",
    "\n",
    "## Testes de hipóteses e significância\n",
    "\n",
    "Admitida uma hipótese particular como verdadeira se, se verificar que os resultados observados em uma amostra aleatória diferem acentuadamente dos esperados, para aquela hipótese, com base na probabilidade simples mediante a utilização da teoria da amostragem, pode-se concluir que as diferenças observadas **_são significativas_** e ficar inclinados a rejeitar a hipótese (ou, pelo menos, a não aceitá-la com base nas provas obtidas). Por exemplo, se 20 lances de uma moeda apresentam 16 caras, ficamos \"inclinados\" a rejeitar a hipótese de que a moeda é honesta, embora seja concebível que se esteja incorrendo em erro.\n",
    "\n",
    "Os processos que habilitam a decidir se as hipóteses são aceitas ou rejeitadas, ou a determinar se a amostra observada difere de modo significativo dos resultados esperados, são denominados **_testes de hipóteses_** ou **_testes de significância_** (ou ainda **_regras de decisão_**).\n",
    "\n",
    "## Erro Tipo I e Tipo II\n",
    "\n",
    "Se uma hipótese for rejeitada quando deveria ser aceita, diz-se que foi cometido um erro do **_Tipo I_**. Se, por outro lado, for aceita uma hipótese que deveria ter sido rejeitada, diz-se que foi cometido um erro do **_Tipo II_**. Em ambos os casos, ocorreu uma decisão errada ou um erro de julgamento.\n",
    "\n",
    "Para quaisquer testes de hipóteses ou regras ou regras de decisão sejam bons, eles devem ser planejados de modo que os erros de decisão sejam reduzidos ao mínimo. Embora não seja uma tarefa simples, um caminho possível para a diminuição de ambos os tipos de erros consiste em aumentar o tamanho da amostra, o que pode ou não ser possível.\n",
    "\n",
    "## Nível de significância\n",
    "\n",
    "Ao testar uma hipótese estabelecida, a probabilidade máxima com a qual se sujeitaria a correr o risco de um erro do Tipo I é denominado **_nível de significância do teste_**. Essa probabilidade, representada frequentemente por $\\alpha$, é geralmente especificada antes da extração de quaisquer amostras, de modo que os resultados obtidos não influenciem a escolha.\n",
    "\n",
    "Na prática, é usual a adoção de um nível de significância 0,05 ou 0,01, embora possam ser utilizados outros valores. Se, por exemplo, é escolhido um nível de significância 0,05 ou 5% no planjeamento de um teste de hipótese, há então cerca de 5 probabilidades, em 100 , da hipótese ser rejeitada, quando dever ser aceita, isto é, há uma confiança de cerca de 95% de que se tome uma decisão acertada. Nesses casos, diz-se que a hipótese é **_rejeitada no nível de significância 0,05_**, o que significa que a probabilidade de erro seria de 0,05.\n",
    "\n",
    "## P valores\n",
    "\n",
    "Existe uma forma de calcular a probabilidade de nossa hipótese nula ser rejeitada chamada p valor. A ideia do p valor é calcular a probabilidade de obter-se ma estatística de teste igual ou mais extrema que a estatística observada a partir de uma amostra de uma população assumindo–se a hipótese nula como verdadeira. Ou seja, escolhe-se um nível de significância e busca-se rejeitar a hipótese nula, se e somente se o p–valor for menor que o nível de significância pré–estabelecido.\n"
   ]
  },
  {
   "cell_type": "markdown",
   "metadata": {},
   "source": [
    "## Exercícios\n",
    "\n",
    "1. Considerem o problema de jogar um dado 10 mil vezes.\n",
    "Qual a média dessas jogadas?\n",
    "Desconhecendo a honestidade dos dados, realize um teste de hipóteses para provar que o dado é honesto.\n",
    "\n",
    "\n",
    "2. Considerem o lançamento de uma moeda 12 vezes. \n",
    "\n",
    "(a) Neste exercício, qual melhor distribuição se adequa ao problema?\n",
    "\n",
    "(b) E se forem observadas o resultado de 4 caras, pode-se afirmar que a moeda é honesta?\n",
    "\n",
    "(c) Se forem observados o resultado de 9 caras, pode-se afirmar que a moeda é honesta?\n",
    "\n",
    "(d) Houve alguma dificuldade para se calcular as respostas dos itens (b) e (c)? Justifique."
   ]
  },
  {
   "cell_type": "code",
   "execution_count": 2,
   "metadata": {},
   "outputs": [],
   "source": [
    "import random\n",
    "import pandas as pd\n",
    "import numpy as np\n",
    "import scipy.stats as stats"
   ]
  },
  {
   "cell_type": "code",
   "execution_count": 17,
   "metadata": {},
   "outputs": [
    {
     "name": "stdout",
     "output_type": "stream",
     "text": [
      "Média: 3.9953\n",
      "O dado é honesto.\n"
     ]
    }
   ],
   "source": [
    "# 1)\n",
    "tds_lancamentos = []; soma = 0; qnt_lancamentos = 10000\n",
    "\n",
    "for i in range(qnt_lancamentos):\n",
    "    dado = random.randint(1,7)\n",
    "    tds_lancamentos.append(dado)\n",
    "    soma += dado\n",
    "\n",
    "media = soma/qnt_lancamentos\n",
    "print(\"Média: \" + str(media))\n",
    "\n",
    "significancia = 0.05\n",
    "stat_test, p_valor = stats.normaltest(tds_lancamentos)\n",
    "if (p_valor <= significancia):\n",
    "    print(\"O dado é honesto.\")\n",
    "else:\n",
    "    print(\"O dado não é honesto.\")\n",
    "\n"
   ]
  },
  {
   "cell_type": "markdown",
   "metadata": {},
   "source": [
    "2) A)    Distribuição binomial, pois só tem duas possibilidades, uma de dar cara e outra de dar coroa"
   ]
  },
  {
   "cell_type": "code",
   "execution_count": null,
   "metadata": {},
   "outputs": [
    {
     "name": "stdout",
     "output_type": "stream",
     "text": [
      "A moeda não é honesta\n"
     ]
    }
   ],
   "source": [
    "# B)\n",
    "n = 12; caras = 4; coroas = 8\n",
    "Pcaras = caras / coroas\n",
    "\n",
    "p_valor = stats.binom.sf(caras - 1, n, 0.5)\n",
    "if (p_valor <= significancia):\n",
    "    print(\"A moeda é honesta.\")\n",
    "else:\n",
    "    print(\"A moeda não é honesta\")"
   ]
  },
  {
   "cell_type": "code",
   "execution_count": null,
   "metadata": {},
   "outputs": [
    {
     "name": "stdout",
     "output_type": "stream",
     "text": [
      "A moeda não é honesta\n"
     ]
    }
   ],
   "source": [
    "# C)\n",
    "caras = 9; coroas = 3\n",
    "Pcaras = caras / coroas\n",
    "\n",
    "p_valor = stats.binom.sf(caras - 1, n, 0.5)\n",
    "if (p_valor <= significancia):\n",
    "    print(\"A moeda é honesta.\")\n",
    "else:\n",
    "    print(\"A moeda não é honesta\")"
   ]
  },
  {
   "cell_type": "markdown",
   "metadata": {},
   "source": [
    "D)  Sim, tive que decidir qual distribuição usar, a binomial, a normal ou a de poisson. A binomial descreve situações em que o resultado de uma variável aleatória pode ser apenas duas classes e categorias e que não tenha nenhum outro resultado possível, sendo ótima no caso das moedas, que só pode dar cara ou coroa. Por isso a escolhi para fazer as questões."
   ]
  }
 ],
 "metadata": {
  "kernelspec": {
   "display_name": "Python 3",
   "language": "python",
   "name": "python3"
  },
  "language_info": {
   "codemirror_mode": {
    "name": "ipython",
    "version": 3
   },
   "file_extension": ".py",
   "mimetype": "text/x-python",
   "name": "python",
   "nbconvert_exporter": "python",
   "pygments_lexer": "ipython3",
   "version": "3.12.6"
  }
 },
 "nbformat": 4,
 "nbformat_minor": 2
}
