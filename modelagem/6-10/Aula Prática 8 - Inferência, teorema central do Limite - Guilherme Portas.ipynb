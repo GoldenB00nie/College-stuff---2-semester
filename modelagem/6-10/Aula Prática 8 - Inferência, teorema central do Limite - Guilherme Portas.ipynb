{
 "cells": [
  {
   "cell_type": "markdown",
   "metadata": {},
   "source": [
    "# Inferência Estatística\n",
    "\n",
    "## Problemas motivadores\n",
    "\n",
    "1) De 50.000 válvulas fabricadas por uma companhia retira-se uma amostra de 400 válvulas e obtém-se a vida média de 800 horas e o desvio padrão de 100 horas. **(a)** qual o intervalo de confiança de 99% para a vida média da população? **(b)** Com que confiança poderia se dizer que a vida média é 800 $\\pm $ 0,98? **(c)** Que tamanho deve ter a amostra para que seja de 95% a confiança na estimativa 800 $\\pm $ 7,84?\n",
    "\n",
    "2) A medida dos diâmetros de uma amostra aleatória de 200 rolamentos esféricos, durante uma semana, apresentam média 0,824 polegadas e o desvio padrão 0,042 polegada. Determine os limites de confiança de **(a)** 95% **(b)** 99%\n",
    "\n",
    "3) Já sabemos que o problema do lançamento de uma moeda pode ser modelado pela Distribuição Binomial. Supondo o lançamento de uma moeda 50 vezes, suponha que tenha ocorrido 36 caras. Esse resultado permite dizer que a moeda é honesta? O que você faria para verificar esta afirmação?\n",
    "\n",
    "4) Para fins de estudos, duas turmas de uma determinada disciplina foram comparadas. A primeira turma com 40 alunos, nota média 7,4 e desvio padrão 0,8. A segunda turma com 50 alunos, nota média 7,8 e desvio padrão 0,7. Pergunta-se: há diferença significativa entre os aproveitamentos das duas classes, no nível de significância: **(a)** 0,05 (95%) **(b)** 0,01 (99%)."
   ]
  },
  {
   "cell_type": "code",
   "execution_count": 1,
   "metadata": {},
   "outputs": [
    {
     "name": "stdout",
     "output_type": "stream",
     "text": [
      "(np.float64(787.1208534822555), np.float64(812.8791465177445))\n",
      "0.15538983400325623\n",
      "400\n"
     ]
    }
   ],
   "source": [
    "import scipy.stats as stats\n",
    "\n",
    "# 1.\n",
    "media = 800\n",
    "desvio = 100\n",
    "amostra = 400\n",
    "populacao = 50000\n",
    "\n",
    "# A)\n",
    "z = stats.norm.ppf((1 + 0.99) / 2)\n",
    "erro_padrao = desvio / amostra ** (1/2)\n",
    "margem_erro = z * erro_padrao\n",
    "intervalo_confianca = (media - margem_erro, media + margem_erro)\n",
    "print(intervalo_confianca)\n",
    "\n",
    "# B)\n",
    "margem_erro = 0.98\n",
    "z = margem_erro / erro_padrao\n",
    "confianca = stats.norm.cdf(z) * 2 - 1\n",
    "print(confianca)\n",
    "\n",
    "# C)\n",
    "confianca = 0.95\n",
    "margem_erro = 7.84\n",
    "z = margem_erro / erro_padrao\n",
    "amostra = round((z * desvio / margem_erro) ** 2)\n",
    "print(amostra)\n"
   ]
  },
  {
   "cell_type": "code",
   "execution_count": 23,
   "metadata": {},
   "outputs": [
    {
     "name": "stdout",
     "output_type": "stream",
     "text": [
      "(np.float64(0.8181792039377314), np.float64(0.8298207960622686))\n",
      "(np.float64(0.8163501772555825), np.float64(0.8316498227444175))\n"
     ]
    }
   ],
   "source": [
    "# 2. \n",
    "amostra = 200\n",
    "media = 0.824\n",
    "desvio = 0.042\n",
    "\n",
    "# A)\n",
    "confianca = 0.95\n",
    "z = stats.norm.ppf((1 + confianca) / 2)\n",
    "erro_padrao = desvio / amostra ** (1/2)\n",
    "margem_erro = z * erro_padrao\n",
    "intervalo_confianca = (media - margem_erro, media + margem_erro)\n",
    "print(intervalo_confianca)\n",
    "\n",
    "# B)\n",
    "confianca = 0.99\n",
    "z = stats.norm.ppf((1 + confianca) / 2)\n",
    "erro_padrao = desvio / amostra ** (1/2)\n",
    "margem_erro = z * erro_padrao\n",
    "intervalo_confianca = (media - margem_erro, media + margem_erro)\n",
    "print(intervalo_confianca)\n",
    "\n"
   ]
  },
  {
   "cell_type": "code",
   "execution_count": 27,
   "metadata": {},
   "outputs": [
    {
     "name": "stdout",
     "output_type": "stream",
     "text": [
      "0.001862846297981946\n",
      "A moeda não é honesta\n"
     ]
    }
   ],
   "source": [
    "# 3.\n",
    "n = 50\n",
    "num_caras = 36\n",
    "p = num_caras / n\n",
    "p0 = 0.5\n",
    "\n",
    "z = (p - p0) / ((p0 * (1 - p0)/n) ** (1/2))\n",
    "valor_p = 2 * (1 - stats.norm.cdf(abs(z)))\n",
    "print(valor_p)\n",
    "\n",
    "a = 0.05 # nivel de significancia\n",
    "if (valor_p < a):\n",
    "    print(\"A moeda não é honesta\")\n",
    "else:\n",
    "    print(\"A moeda é honesta\")"
   ]
  },
  {
   "cell_type": "code",
   "execution_count": 40,
   "metadata": {},
   "outputs": [
    {
     "name": "stdout",
     "output_type": "stream",
     "text": [
      "Tem diferença\n",
      "Não tem diferença\n"
     ]
    }
   ],
   "source": [
    "# 4.\n",
    "tamanho_a = 40\n",
    "media_a = 7.4\n",
    "desvio_a = 0.8\n",
    "\n",
    "tamanho_b = 50\n",
    "media_b = 7.8\n",
    "desvio_b = 0.7\n",
    "\n",
    "significancia_A = 0.05\n",
    "significancia_B = 0.01\n",
    "\n",
    "t = (media_a - media_b) / ((desvio_a**2 / tamanho_a) + (desvio_b**2 / tamanho_b)) ** (1/2)\n",
    "grau_liberdade = ((desvio_a ** 2 / tamanho_a + desvio_b ** 2 / tamanho_b) ** 2 / ((desvio_a ** 2 / tamanho_a) ** 2 / (tamanho_a - 1) + (desvio_b ** 2 / tamanho_b) ** 2 / (tamanho_b - 1)))\n",
    "valor_critico_t_A = stats.t.ppf(1 - significancia_A/2, df = grau_liberdade)\n",
    "valor_critico_t_B = stats.t.ppf(1 - significancia_B/2, df = grau_liberdade)\n",
    "valor_p = 2 * (1 - stats.t.cdf(abs(t), grau_liberdade))\n",
    "\n",
    "if abs(t) > valor_critico_t_A:\n",
    "    print(\"Tem diferença\")\n",
    "else:\n",
    "    print(\"Não tem diferença\")\n",
    "\n",
    "if abs(t) > valor_critico_t_B:\n",
    "    print(\"Tem diferença\")\n",
    "else:\n",
    "    print(\"Não tem diferença\")"
   ]
  }
 ],
 "metadata": {
  "kernelspec": {
   "display_name": "Python 3",
   "language": "python",
   "name": "python3"
  },
  "language_info": {
   "codemirror_mode": {
    "name": "ipython",
    "version": 3
   },
   "file_extension": ".py",
   "mimetype": "text/x-python",
   "name": "python",
   "nbconvert_exporter": "python",
   "pygments_lexer": "ipython3",
   "version": "3.12.6"
  }
 },
 "nbformat": 4,
 "nbformat_minor": 2
}
