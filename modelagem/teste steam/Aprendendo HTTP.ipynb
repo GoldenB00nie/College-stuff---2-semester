{
 "cells": [
  {
   "cell_type": "markdown",
   "metadata": {},
   "source": [
    "**Aprendendo HTTP**\n",
    "===============\n",
    "\n",
    "O ***Hypertext Transfer Protocol (HTTP)*** foi projetado para permitir comunicações entre clientes e servidores.\\\n",
    "O HTTP funciona como um protocolo de solicitação-resposta entre um cliente e um servidor.\\\n",
    "\\\n",
    "> ## **Métodos:**\n",
    ">> - [GET](#get)\n",
    ">> - POST\n",
    ">> - PUT\n",
    ">> - HEAD\n",
    ">> - DELETE\n",
    ">> - PATCH\n",
    ">> - OPTIONS\n",
    ">> - CONNECT\n",
    ">> - TRACE\n",
    ">\n",
    "> Os mais comuns são: GET e POST. <br><br>\n",
    "> \n"
   ]
  },
  {
   "cell_type": "markdown",
   "metadata": {},
   "source": [
    " ### ***GET*** <a id=\"get\"></a>\n",
    "> Usado para solicitar dados de um recurso especificado.\n",
    "> - *Podem ser armazenadas em cache*\n",
    "> - *Permanecem no histórico do navegador*\n",
    "> - *Podem ser marcadas como favoritas*\n",
    "> - *Nunca devem ser usadas ao lidar com dados confidenciais*\n",
    "> - *Têm restrições de comprimento*\n",
    "> - *São usadas apenas para solicitar dados (não modificar)*"
   ]
  }
 ],
 "metadata": {
  "language_info": {
   "name": "python"
  }
 },
 "nbformat": 4,
 "nbformat_minor": 2
}
