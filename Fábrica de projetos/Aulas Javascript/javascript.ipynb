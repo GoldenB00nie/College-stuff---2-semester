{
 "cells": [
  {
   "cell_type": "markdown",
   "metadata": {},
   "source": [
    "https://pt-br.legacy.reactjs.org/docs/getting-started.html#learn-react  \n",
    "  \n",
    "https://developer.mozilla.org/pt-BR/docs/Web/JavaScript/Language_overview#outros_tipos  \n",
    "  \n",
    "https://www.markdownguide.org/basic-syntax/#line-break-best-practices  \n",
    "  \n",
    "https://developer.mozilla.org/pt-BR/docs/Web/JavaScript/Guide/Expressions_and_operators  \n",
    "  \n",
    "https://www.eddymens.com/blog/jumping-to-any-section-of-your-markdown-document  \n",
    "  \n",
    "https://stackoverflow.com/questions/35465557/how-to-apply-color-on-text-in-markdown  \n",
    "  \n",
    "https://www.freecodecamp.org/news/how-to-change-text-color-in-html/"
   ]
  },
  {
   "cell_type": "markdown",
   "metadata": {},
   "source": [
    "**Javascript - Linguagem dinâmica orientada a objetos (OOP)**\n",
    "=========================================================\n",
    "\n",
    "> - Possui tipos e **operadores**, **objetos** e **métodos**.\n",
    "> - Sintaxe do **Java** e do **C**, porém não possui classes, é feita por **protótipos de objetos**.\n",
    "> - As funções são objetos, armazenam código executáveis e podem ser passados como parâmetros para outros objetos\n"
   ]
  },
  {
   "cell_type": "markdown",
   "metadata": {},
   "source": [
    "**Tipos**\n",
    "-----\n",
    "\n",
    "> Programas javascript manipulam valores, e esses valores todos pertencem a um tipo:\n",
    ">\n",
    ">> - [**Números**](#numeros)\n",
    ">> - [**Strings**](#strings)\n",
    ">> - [**Booleanos**](#booleanos)\n",
    ">> - [**Objetos**](#objetos):\n",
    ">>      - [**Funções**](#funcoes)\n",
    ">>      - Vetores\n",
    ">>      - Datas\n",
    ">>      - Expressões regulares (regexp)\n",
    ">>\n",
    ">> - [Nulo](#nulo)\n",
    ">> - [Indefinido](#indefinido)\n",
    ">\n",
    "> E outros para erros."
   ]
  },
  {
   "cell_type": "markdown",
   "metadata": {},
   "source": [
    " <a id=\"numeros\"></a>\n",
    "\n",
    "### **Números**\n",
    "\n",
    " Valores de precisão dupla <font color=\"gray\">*(doubles no C)*</font> **OBS: Não existem inteiros.**  \n",
    " Os operadores numéricos básicos são suportados, incluindo (+, -, %, **, etc)\n",
    "> Para mais informações clique [aqui](https://developer.mozilla.org/pt-BR/docs/Web/JavaScript/Guide/Expressions_and_operators)"
   ]
  },
  {
   "cell_type": "code",
   "execution_count": 6,
   "metadata": {},
   "outputs": [
    {
     "name": "stdout",
     "output_type": "stream",
     "text": [
      "-0.3048106211022167\n",
      "78.53981633974483\n"
     ]
    }
   ],
   "source": [
    "// Também existe o objeto embutido: Math\n",
    "// Permite manipular funções e constantes matemáticas mais avançadas\n",
    "var seno = Math.sin(60)\n",
    "var r = 5\n",
    "var d = Math.PI * r ** 2\n",
    "\n",
    "console.log(seno);\n",
    "console.log(d);"
   ]
  },
  {
   "cell_type": "markdown",
   "metadata": {},
   "source": [
    "> Você também pode coverter uma string ou valor binário em um inteiro ou float com a função **parseInt()** ou **parseFloat()**:"
   ]
  },
  {
   "cell_type": "code",
   "execution_count": 27,
   "metadata": {},
   "outputs": [
    {
     "name": "stdout",
     "output_type": "stream",
     "text": [
      "String para inteiro: 123\n",
      "Ou: 123\n",
      "\n",
      "Binário para inteiro: 11\n",
      "\n",
      "String para float: 456.789\n"
     ]
    }
   ],
   "source": [
    "console.log(\"String para inteiro: \" + parseInt(\"123\", 10)); // String para inteiro\n",
    "console.log(\"Ou: \" + (+ \"123\")); // + \"string\" - executa a mesma coisa que o de cima\n",
    "\n",
    "console.log(\"\\nBinário para inteiro: \" + parseInt(\"1011\", 2)); // Binário para inteiro\n",
    "console.log(\"\\nString para float: \" + parseFloat(\"456.789\")); // Sembre em base 10\n"
   ]
  },
  {
   "cell_type": "code",
   "execution_count": 29,
   "metadata": {},
   "outputs": [
    {
     "data": {
      "text/plain": [
       "true"
      ]
     },
     "execution_count": 29,
     "metadata": {},
     "output_type": "execute_result"
    }
   ],
   "source": [
    "var int = NaN + 5 // Qualquer operação com NaN sempre resulta em NaN\n",
    "isNaN(int);"
   ]
  },
  {
   "cell_type": "code",
   "execution_count": 32,
   "metadata": {},
   "outputs": [
    {
     "name": "stdout",
     "output_type": "stream",
     "text": [
      "false\n",
      "false\n",
      "false\n"
     ]
    }
   ],
   "source": [
    "var infinito = 1/0 // Resulta em infinito positivo\n",
    "var infinito_negativo = -1/0 // Resulta em infinito negativo\n",
    "\n",
    "console.log(isFinite(infinito));\n",
    "console.log(isFinite(infinito_negativo));\n",
    "console.log(isFinite(NaN)); // NaN também é infinito, apesar de não ser um número\n"
   ]
  },
  {
   "cell_type": "markdown",
   "metadata": {},
   "source": [
    "<a id=\"strings\"></a>\n",
    "\n",
    "### **Strings**\n",
    "\n",
    "Sequência de caracteres unicode representados por números de 16-bits.\n",
    "> OBS: Chars são strings de apenas 1 caractere."
   ]
  },
  {
   "cell_type": "code",
   "execution_count": 4,
   "metadata": {},
   "outputs": [
    {
     "name": "stdout",
     "output_type": "stream",
     "text": [
      "5\n",
      "Goodbye, world\n",
      "HELLO\n"
     ]
    }
   ],
   "source": [
    "// Pega o tamanho da string\n",
    "Length = \"Hello\".length // as strings também são objetos, portanto pode-se aplicar métodos\n",
    "Replace = \"Hello, world\".replace(\"Hello\", \"Goodbye\")\n",
    "ToUpper = \"hello\".toUpperCase()\n",
    "\n",
    "console.log(Length + '\\n' + Replace + '\\n' + ToUpper)"
   ]
  },
  {
   "cell_type": "markdown",
   "metadata": {},
   "source": [
    "### **Outros tipos**\n",
    "\n",
    "***null*** - Objeto do tipo *'objeto'*, ausência de valor  \n",
    "***undefined*** - Objeto do tipo *'undefined'*, valor não inicializado  \n"
   ]
  },
  {
   "cell_type": "markdown",
   "metadata": {},
   "source": [
    "<a id=\"booleanos\"></a>\n",
    "\n",
    "### ***Booleanos***\n",
    "Valores *'true'*, para verdadeiro, e *'false'* para falsos  \n",
    "Qualquer valor pode ser convertido à booleanos seguindo as seguinte regras:\n",
    "> 1. false, 0, a string vazia(\"\"), NaN, null, e undefined todos tornam-se false\n",
    "> 2. todos os outros valores tornam-se true"
   ]
  },
  {
   "cell_type": "code",
   "execution_count": null,
   "metadata": {},
   "outputs": [
    {
     "name": "stdout",
     "output_type": "stream",
     "text": [
      "false\n",
      "true\n"
     ]
    }
   ],
   "source": [
    "// Usa-se o método \"Boolean\" para converter valores em booleanos.\n",
    "falso = Boolean(\"\") \n",
    "verdadeiro = Boolean(234)\n",
    "console.log(falso + '\\n' + verdadeiro)"
   ]
  },
  {
   "cell_type": "markdown",
   "metadata": {},
   "source": [
    "O Javascript já faz essa conversão automaticamente quando esperar um valor booleano  \n",
    "> Ex: <span style=\"color:#6296d8\"> *if ((valor1 == true && valor2 != false) || !valor3 == true)* </span>"
   ]
  },
  {
   "cell_type": "markdown",
   "metadata": {},
   "source": [
    "### ***Variáveis***\n",
    "\n",
    "Declaradas usando a palavra-chave: <span style=\"color:#6296d8\"> ***var*** </span>"
   ]
  }
 ],
 "metadata": {
  "kernelspec": {
   "display_name": "JavaScript (Node.js)",
   "language": "javascript",
   "name": "javascript"
  },
  "language_info": {
   "file_extension": ".js",
   "mimetype": "application/javascript",
   "name": "javascript",
   "version": "20.18.0"
  }
 },
 "nbformat": 4,
 "nbformat_minor": 2
}
